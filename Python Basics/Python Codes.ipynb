{
 "cells": [
  {
   "cell_type": "code",
   "execution_count": null,
   "metadata": {},
   "outputs": [],
   "source": [
    "#test\n",
    "x = int(input(\"Enter 1st number \"))\n",
    "y = int(input(\"Enter 2nd number \"))\n",
    "z = x+y\n",
    "print(z)"
   ]
  },
  {
   "cell_type": "code",
   "execution_count": 2,
   "metadata": {},
   "outputs": [
    {
     "name": "stdout",
     "output_type": "stream",
     "text": [
      "5 > 2\n"
     ]
    }
   ],
   "source": [
    "if(5 > 2):\n",
    "    print(\"5 > 2\")"
   ]
  },
  {
   "cell_type": "code",
   "execution_count": 8,
   "metadata": {},
   "outputs": [
    {
     "name": "stdout",
     "output_type": "stream",
     "text": [
      "15\n",
      "20\n",
      "abcabc\n"
     ]
    }
   ],
   "source": [
    "x,y,z = 5 ,10, \"abc\"\n",
    "print(x + y)\n",
    "print(y + 10)\n",
    "print(z + \"abc\")"
   ]
  },
  {
   "cell_type": "code",
   "execution_count": 12,
   "metadata": {},
   "outputs": [
    {
     "name": "stdout",
     "output_type": "stream",
     "text": [
      "python isawesome\n",
      "pyhton isawesome\n"
     ]
    }
   ],
   "source": [
    "x = \"fantastic\"\n",
    "def func():\n",
    "    global x\n",
    "    x = \"awesome\"\n",
    "    print(\"python is\" + x)\n",
    "    \n",
    "func()\n",
    "print(\"pyhton is\" + x)"
   ]
  },
  {
   "cell_type": "code",
   "execution_count": 3,
   "metadata": {},
   "outputs": [
    {
     "name": "stdout",
     "output_type": "stream",
     "text": [
      "[1 2 3 4 5]\n"
     ]
    }
   ],
   "source": [
    "from numpy import *\n",
    "\n",
    "arr = array([1,2,3,4,5])\n",
    "print(arr)"
   ]
  },
  {
   "cell_type": "code",
   "execution_count": 1,
   "metadata": {},
   "outputs": [
    {
     "name": "stdout",
     "output_type": "stream",
     "text": [
      "Hii\n",
      "Ravi\n"
     ]
    }
   ],
   "source": [
    "if True:\n",
    "    print(\"Hii\")\n",
    "    print(\"Ravi\")"
   ]
  },
  {
   "cell_type": "code",
   "execution_count": 17,
   "metadata": {},
   "outputs": [
    {
     "name": "stdout",
     "output_type": "stream",
     "text": [
      "Enter number of rows 5\n",
      "# \n",
      "# # \n",
      "# # # \n",
      "# # # # \n",
      "# # # # # \n"
     ]
    }
   ],
   "source": [
    "a = int(input(\"Enter number of rows \"))\n",
    "i = 1;\n",
    "while i<=a:\n",
    "    j=1\n",
    "    while j<=i:\n",
    "        print(\"# \",end=\"\")\n",
    "        j += 1\n",
    "    print()\n",
    "    i += 1 \n"
   ]
  },
  {
   "cell_type": "code",
   "execution_count": 25,
   "metadata": {},
   "outputs": [
    {
     "name": "stdout",
     "output_type": "stream",
     "text": [
      "1  3  4  5  6  7  8  9  10  "
     ]
    }
   ],
   "source": [
    "for i in range(1,11):\n",
    "    if i == 2:\n",
    "        continue\n",
    "    print(i,\" \", end = \"\")"
   ]
  },
  {
   "cell_type": "code",
   "execution_count": 28,
   "metadata": {},
   "outputs": [
    {
     "name": "stdout",
     "output_type": "stream",
     "text": [
      "1\n",
      "2\n",
      "3\n",
      "4\n",
      "5\n"
     ]
    }
   ],
   "source": [
    "from array import *\n",
    "vals = array(\"i\", [1,2,3,4,5])\n",
    "\n",
    "for e in vals:\n",
    "    print(e)"
   ]
  },
  {
   "cell_type": "code",
   "execution_count": null,
   "metadata": {},
   "outputs": [],
   "source": [
    "from array import *\n",
    "n = int(input(\"Enter the length of array \"))\n",
    "\n",
    "arr = array('i', [])\n",
    "\n",
    "for i in range(n):\n",
    "    x = int(input(\"Enter the element\"))\n",
    "    arr.append(x)\n",
    "\n",
    "print(arr)\n",
    "\n",
    "val = int(input(\"Enter the element to be search\"))\n",
    "\n",
    "k=0\n",
    "for e in arr:\n",
    "    if e == val:\n",
    "        print(k)\n",
    "        break\n",
    "        \n",
    "    k += 1\n",
    "    \n",
    "print(arr.index(val))"
   ]
  },
  {
   "cell_type": "code",
   "execution_count": null,
   "metadata": {},
   "outputs": [],
   "source": [
    "import numpy\n",
    "\n",
    "arr = array([1,2,3,4,5])\n",
    "print arr"
   ]
  },
  {
   "cell_type": "code",
   "execution_count": 14,
   "metadata": {},
   "outputs": [
    {
     "name": "stdout",
     "output_type": "stream",
     "text": [
      "1  2  3  4  5  \n",
      "6  7  8  9  \n"
     ]
    }
   ],
   "source": [
    "from numpy import *\n",
    "arr = array([[1,2,3,4,5],[6,7,8,9]])\n",
    "\n",
    "for e in arr:\n",
    "    for f in e:\n",
    "        print(f, \" \",end = \"\")\n",
    "    print()"
   ]
  },
  {
   "cell_type": "code",
   "execution_count": 22,
   "metadata": {},
   "outputs": [
    {
     "name": "stdout",
     "output_type": "stream",
     "text": [
      "ivar\n"
     ]
    }
   ],
   "source": [
    "string = \"ravi\"\n",
    "print(string[::-1])"
   ]
  },
  {
   "cell_type": "code",
   "execution_count": 24,
   "metadata": {},
   "outputs": [
    {
     "name": "stdout",
     "output_type": "stream",
     "text": [
      "0\n",
      "1\n",
      "2\n",
      "3\n",
      "4\n",
      "5\n",
      "6\n",
      "7\n",
      "8\n",
      "9\n"
     ]
    }
   ],
   "source": [
    "for i in range(10):\n",
    "    print(i)"
   ]
  },
  {
   "cell_type": "code",
   "execution_count": 29,
   "metadata": {},
   "outputs": [
    {
     "name": "stdout",
     "output_type": "stream",
     "text": [
      "140733441545312\n",
      "140733441545312\n"
     ]
    }
   ],
   "source": [
    "x = 10\n",
    "y = 10\n",
    "print(id(x))\n",
    "print(id(y))"
   ]
  },
  {
   "cell_type": "code",
   "execution_count": 30,
   "metadata": {},
   "outputs": [
    {
     "name": "stdout",
     "output_type": "stream",
     "text": [
      "Enter the 1st number 10\n",
      "Enter the 2nd number 20\n",
      "30\n"
     ]
    }
   ],
   "source": [
    "x = int(input(\"Enter the 1st number \"))\n",
    "y = int(input(\"Enter the 2nd number \"))\n",
    "z = x + y\n",
    "print(z)"
   ]
  },
  {
   "cell_type": "code",
   "execution_count": 31,
   "metadata": {},
   "outputs": [
    {
     "name": "stdout",
     "output_type": "stream",
     "text": [
      "10\n",
      "<class 'str'>\n"
     ]
    }
   ],
   "source": [
    "print(type(input()))"
   ]
  },
  {
   "cell_type": "code",
   "execution_count": 32,
   "metadata": {},
   "outputs": [
    {
     "name": "stdout",
     "output_type": "stream",
     "text": [
      "140733441545312\n"
     ]
    }
   ],
   "source": [
    "x = 10\n",
    "print(id(10))"
   ]
  },
  {
   "cell_type": "code",
   "execution_count": 34,
   "metadata": {},
   "outputs": [
    {
     "name": "stdout",
     "output_type": "stream",
     "text": [
      "140733441545312\n",
      "140733441545312\n",
      "140733441545632\n"
     ]
    }
   ],
   "source": [
    "x = 10\n",
    "y = 10\n",
    "z = 20\n",
    "print(id(x))\n",
    "print(id(y))\n",
    "print(id(z))"
   ]
  },
  {
   "cell_type": "code",
   "execution_count": 43,
   "metadata": {},
   "outputs": [
    {
     "name": "stdout",
     "output_type": "stream",
     "text": [
      "5\n"
     ]
    }
   ],
   "source": [
    "x = int(input())\n",
    "for i in range(0, x, -1):\n",
    "    print(i)"
   ]
  },
  {
   "cell_type": "code",
   "execution_count": 50,
   "metadata": {},
   "outputs": [
    {
     "name": "stdout",
     "output_type": "stream",
     "text": [
      "5\n",
      "4\n",
      "7\n",
      "6\n",
      "7\n",
      "4\n",
      "[4, 7, 6, 7, 4]\n",
      "[4, 4, 6, 7, 7]\n",
      "min  4\n",
      "max  7\n"
     ]
    }
   ],
   "source": [
    "num_list = []\n",
    "num = int(input())\n",
    "\n",
    "for i in range(0,num):\n",
    "    num_list.append(int(input()))\n",
    "    \n",
    "print(num_list)\n",
    "num_list.sort()\n",
    "print(num_list)\n",
    "print(\"min \", num_list[0])\n",
    "print(\"max \",num_list[-1])"
   ]
  },
  {
   "cell_type": "code",
   "execution_count": 10,
   "metadata": {},
   "outputs": [
    {
     "name": "stdout",
     "output_type": "stream",
     "text": [
      "float64\n",
      "[1.  2.  3.  4.  5.  6.5]\n"
     ]
    }
   ],
   "source": [
    "from numpy import *\n",
    "arr = array([1,2,3,4,5, 6.5])\n",
    "print(arr.dtype)\n",
    "print(arr)"
   ]
  },
  {
   "cell_type": "code",
   "execution_count": 11,
   "metadata": {},
   "outputs": [
    {
     "name": "stdout",
     "output_type": "stream",
     "text": [
      "[1 1 1 1 1]\n"
     ]
    }
   ],
   "source": [
    "arr2 = ones(5, int)\n",
    "print(arr2)"
   ]
  },
  {
   "cell_type": "code",
   "execution_count": 18,
   "metadata": {},
   "outputs": [
    {
     "name": "stdout",
     "output_type": "stream",
     "text": [
      "[1 2 3 4 5]   2162046077648\n",
      "[1 2 3 4 5]   2162046077168\n",
      "[10  2  3  4  5]   2162046077648\n",
      "[10  2  3  4  5]   2162046077168\n",
      "[20  2  3  4  5]   2162046077648\n",
      "[10  2  3  4  5]   2162046312320\n"
     ]
    }
   ],
   "source": [
    "arr1 = array([1,2,3,4,5])\n",
    "arr2 = arr1.view() #shallow copy\n",
    "print(arr1, \" \", id(arr1))\n",
    "print(arr2, \" \", id(arr2))\n",
    "\n",
    "arr1[0] = 10\n",
    "print(arr1, \" \", id(arr1))\n",
    "print(arr2, \" \", id(arr2))\n",
    "\n",
    "arr2 = arr1.copy() #deep copy\n",
    "arr1[0] = 20\n",
    "print(arr1, \" \", id(arr1))\n",
    "print(arr2, \" \", id(arr2))"
   ]
  },
  {
   "cell_type": "code",
   "execution_count": 41,
   "metadata": {},
   "outputs": [
    {
     "name": "stdout",
     "output_type": "stream",
     "text": [
      "[16 18 23 25 30]\n"
     ]
    }
   ],
   "source": [
    "arr =array([1,2,3,4,25])\n",
    "arr1=array([15,16,20,21,5])\n",
    "arr2 = zeros(len(arr), int)\n",
    "for i in range(len(arr)):\n",
    "    arr2[i]=arr[i]+arr1[i]\n",
    "print(arr2)\n",
    "\n"
   ]
  },
  {
   "cell_type": "code",
   "execution_count": 47,
   "metadata": {},
   "outputs": [
    {
     "name": "stdout",
     "output_type": "stream",
     "text": [
      "max  562\n"
     ]
    }
   ],
   "source": [
    "arr = array([55,45,52,445,562,14,55,4,45,5,47,7,55,1,4,5],int)\n",
    "\n",
    "max = 0\n",
    "for i in arr:\n",
    "    if i > max:\n",
    "        max = i\n",
    "        \n",
    "print(\"max \", max)"
   ]
  },
  {
   "cell_type": "code",
   "execution_count": 53,
   "metadata": {},
   "outputs": [
    {
     "name": "stdout",
     "output_type": "stream",
     "text": [
      "Hello Ravi\n"
     ]
    }
   ],
   "source": [
    "# functions\n",
    "def greet():\n",
    "    print(\"Hello\",end = \" \")\n",
    "    print(\"Ravi\")\n",
    "    \n",
    "greet()"
   ]
  },
  {
   "cell_type": "code",
   "execution_count": 57,
   "metadata": {
    "scrolled": true
   },
   "outputs": [
    {
     "name": "stdout",
     "output_type": "stream",
     "text": [
      "10\n",
      "20\n",
      "30\n"
     ]
    }
   ],
   "source": [
    "def add(x,y):\n",
    "    return x+y\n",
    "    \n",
    "ans = add(int(input()),int(input()))\n",
    "print(ans)"
   ]
  },
  {
   "cell_type": "code",
   "execution_count": 60,
   "metadata": {},
   "outputs": [
    {
     "name": "stdout",
     "output_type": "stream",
     "text": [
      "10\n",
      "20\n",
      "30 -10\n"
     ]
    }
   ],
   "source": [
    "def add_sub(x,y):\n",
    "    c = x + y\n",
    "    d = x - y\n",
    "    return c,d\n",
    "\n",
    "result1, result2 = add_sub(int(input()), int(input()))\n",
    "print(result1, result2)"
   ]
  },
  {
   "cell_type": "code",
   "execution_count": 65,
   "metadata": {},
   "outputs": [
    {
     "name": "stdout",
     "output_type": "stream",
     "text": [
      "26\n"
     ]
    }
   ],
   "source": [
    "#variable length (when we don't know the number of args provided)\n",
    "def sum(*b):\n",
    "    c = 0\n",
    "    \n",
    "    for i in b:\n",
    "        c += i\n",
    "    print(c)\n",
    "    \n",
    "sum(2,3,4,5,3,2,4,3)\n"
   ]
  },
  {
   "cell_type": "code",
   "execution_count": 74,
   "metadata": {},
   "outputs": [
    {
     "name": "stdout",
     "output_type": "stream",
     "text": [
      "name ravi\n",
      "age 34\n",
      "mob 23123\n",
      "city pune\n"
     ]
    }
   ],
   "source": [
    "#keyword variable length arguments\n",
    "def person(**data):\n",
    "#     print(\"name \", name)\n",
    "    \n",
    "    for i,j in data.items():\n",
    "        print(i,j)\n",
    "        \n",
    "person(name='ravi',age=34,mob=23123,city='pune')"
   ]
  },
  {
   "cell_type": "code",
   "execution_count": 82,
   "metadata": {},
   "outputs": [
    {
     "name": "stdout",
     "output_type": "stream",
     "text": [
      "10\n",
      "9\n",
      "10\n"
     ]
    }
   ],
   "source": [
    "a = 10\n",
    "def something():\n",
    "#     global a\n",
    "    a = 9\n",
    "    x = globals()['a']\n",
    "    print(x)\n",
    "    print(a)\n",
    "\n",
    "something()\n",
    "print(a)"
   ]
  },
  {
   "cell_type": "code",
   "execution_count": 89,
   "metadata": {},
   "outputs": [
    {
     "name": "stdout",
     "output_type": "stream",
     "text": [
      "Enter the number of inputs 5\n",
      "Enter the number1\n",
      "Enter the number2\n",
      "Enter the number3\n",
      "Enter the number4\n",
      "Enter the number5\n",
      "Even number : 2 and odd number : 3\n"
     ]
    }
   ],
   "source": [
    "num = int(input(\"Enter the number of inputs \"))\n",
    "lst = []\n",
    "for i in range(0,num):\n",
    "    lst.append(int(input(\"Enter the number\")))\n",
    "\n",
    "def count(lst):\n",
    "    even = 0\n",
    "    odd = 0 \n",
    "    for i in lst:\n",
    "        if i % 2 == 0:\n",
    "            even += 1\n",
    "        else:\n",
    "            odd += 1\n",
    "            \n",
    "    return even, odd\n",
    "\n",
    "even, odd = count(lst)\n",
    "print(\"Even number : {} and odd number : {}\".format(even,odd))\n"
   ]
  },
  {
   "cell_type": "code",
   "execution_count": 95,
   "metadata": {},
   "outputs": [
    {
     "name": "stdout",
     "output_type": "stream",
     "text": [
      "The last number less than 100 is in fibonacci series is 89\n"
     ]
    }
   ],
   "source": [
    "def fib(n):\n",
    "    a = 0\n",
    "    b = 1\n",
    "    for i in range(2,n):\n",
    "        c = a+b\n",
    "        a = b\n",
    "        b = c\n",
    "        if c > 100:\n",
    "            return a\n",
    "        \n",
    "ans = fib(100)\n",
    "print(\"The last number less than 100 is in fibonacci series is\", ans)"
   ]
  },
  {
   "cell_type": "code",
   "execution_count": 105,
   "metadata": {},
   "outputs": [
    {
     "name": "stdout",
     "output_type": "stream",
     "text": [
      "120\n"
     ]
    }
   ],
   "source": [
    "def fact(n):\n",
    "    ans = 1\n",
    "    for i in range(1,n+1):\n",
    "        ans *= i\n",
    "    return ans\n",
    "    \n",
    "print(fact(5))"
   ]
  },
  {
   "cell_type": "code",
   "execution_count": 108,
   "metadata": {},
   "outputs": [
    {
     "name": "stdout",
     "output_type": "stream",
     "text": [
      "5\n"
     ]
    },
    {
     "data": {
      "text/plain": [
       "120"
      ]
     },
     "execution_count": 108,
     "metadata": {},
     "output_type": "execute_result"
    }
   ],
   "source": [
    "def fact(n):\n",
    "    if n == 1:\n",
    "        return n\n",
    "    \n",
    "    return n * fact(n-1)\n",
    "\n",
    "fact(int(input()))"
   ]
  },
  {
   "cell_type": "code",
   "execution_count": 2,
   "metadata": {},
   "outputs": [
    {
     "name": "stdout",
     "output_type": "stream",
     "text": [
      "Enter the number : 10\n",
      "Square of 10 is :  25\n"
     ]
    }
   ],
   "source": [
    "# anonyms function (lambda)\n",
    "# when we have a function of single line expression\n",
    "f = lambda a : a*a\n",
    "\n",
    "result = f(5)\n",
    "\n",
    "print(\"Square of {} is : \".format(int(input(\"Enter the number : \"))), result)"
   ]
  },
  {
   "cell_type": "code",
   "execution_count": 15,
   "metadata": {},
   "outputs": [
    {
     "name": "stdout",
     "output_type": "stream",
     "text": [
      "[12, 4, 6, 4, 6, 62, 26]\n",
      "[24, 8, 12, 8, 12, 124, 52]\n",
      "240\n"
     ]
    }
   ],
   "source": [
    "from functools import reduce\n",
    "nums = [12,4,55,55,6,1,3,25,4,6,1,1,62,26,621,3]\n",
    "\n",
    "evens = list(filter(lambda a : a%2 == 0,nums))\n",
    "print(evens)\n",
    "\n",
    "doubles = list(map(lambda a : a*2,evens))\n",
    "print(doubles)\n",
    "\n",
    "add = reduce(lambda a,b : a+b,doubles)\n",
    "print(add)"
   ]
  },
  {
   "cell_type": "code",
   "execution_count": 20,
   "metadata": {},
   "outputs": [
    {
     "name": "stdout",
     "output_type": "stream",
     "text": [
      "1.25\n"
     ]
    }
   ],
   "source": [
    "#decoratoes : When we do not want to change the existing func without changing its defination\n",
    "#wap to divide 2 number ,if num < deno, swap and divide\n",
    "def div(a,b):\n",
    "    print(a/b)\n",
    "    \n",
    "def smart_div(func):\n",
    "    \n",
    "    def inner(a,b):\n",
    "        if a < b:\n",
    "            a,b = b,a\n",
    "        return func(a,b)\n",
    "    return inner\n",
    "\n",
    "div = smart_div(div)\n",
    "\n",
    "div(4,5)"
   ]
  },
  {
   "cell_type": "code",
   "execution_count": 30,
   "metadata": {},
   "outputs": [
    {
     "name": "stdout",
     "output_type": "stream",
     "text": [
      "Dell, i5, 2TB\n"
     ]
    }
   ],
   "source": [
    "#class in python\n",
    "class computer:\n",
    "    \n",
    "    def details(self):\n",
    "        print(\"Dell, i5, 2TB\")\n",
    "        \n",
    "com1 = computer()\n",
    "com1.details()"
   ]
  },
  {
   "cell_type": "code",
   "execution_count": 39,
   "metadata": {
    "scrolled": false
   },
   "outputs": [
    {
     "name": "stdout",
     "output_type": "stream",
     "text": [
      "Config is :  i5 15\n",
      "Config is :  i3 10\n"
     ]
    }
   ],
   "source": [
    "#__init__ method (constructor)\n",
    "\n",
    "class computer:\n",
    "    \n",
    "    def __init__(self, r, c):\n",
    "        self.ram = r\n",
    "        self.cpu = c\n",
    "        \n",
    "    def config(self):\n",
    "        print(\"Config is : \",self.ram, self.cpu)\n",
    "        \n",
    "        \n",
    "com1 = computer(\"i5\", \"15\")\n",
    "com2 = computer(\"i3\", \"10\")\n",
    "\n",
    "com1.config()\n",
    "com2.config()"
   ]
  },
  {
   "cell_type": "code",
   "execution_count": 48,
   "metadata": {},
   "outputs": [
    {
     "name": "stdout",
     "output_type": "stream",
     "text": [
      "same\n"
     ]
    }
   ],
   "source": [
    "class computer:\n",
    "    \n",
    "    def __init__(self):\n",
    "        self.name = \"Ravi\"\n",
    "        self.age = 23\n",
    "        \n",
    "        \n",
    "    def compare(self, c2):\n",
    "        return self.age == c2.age\n",
    "    \n",
    "c1 = computer()\n",
    "# c1.age = 25\n",
    "c2 = computer()\n",
    "\n",
    "# if c1.age == c2.age:\n",
    "#     print(\"Same age\")\n",
    "# else:\n",
    "#     print(\"Different Age\")\n",
    "\n",
    "if(c1.compare(c2)):\n",
    "    print(\"same\")\n",
    "else:\n",
    "    print(\"different\")\n",
    "\n",
    "\n",
    "    \n",
    "        "
   ]
  },
  {
   "cell_type": "code",
   "execution_count": 2,
   "metadata": {},
   "outputs": [
    {
     "name": "stdout",
     "output_type": "stream",
     "text": [
      "10 BMW 4\n",
      "10 BMW 4\n"
     ]
    }
   ],
   "source": [
    "#class variables\n",
    "class car:\n",
    "    wheels = 4    #class variable\n",
    "    \n",
    "    def __init__(self):\n",
    "        self.mil = 10     #instance / object variable\n",
    "        self.company = \"BMW\"\n",
    "        \n",
    "c1 = car()\n",
    "c2 = car()\n",
    "\n",
    "# car.wheels = 5\n",
    "\n",
    "print(c1.mil, c1.company, car.wheels)\n",
    "print(c2.mil, c2.company, car.wheels)"
   ]
  },
  {
   "cell_type": "code",
   "execution_count": 24,
   "metadata": {},
   "outputs": [
    {
     "name": "stdout",
     "output_type": "stream",
     "text": [
      "43.333333333333336 MIT\n",
      "51.333333333333336 MIT\n",
      "MIT\n",
      "This is static method...\n",
      "Also static\n"
     ]
    }
   ],
   "source": [
    "# instance method and class method\n",
    "class student:\n",
    "    school = \"MIT\"\n",
    "    \n",
    "    def __init__(self, m1, m2, m3):\n",
    "        self.m1 = m1\n",
    "        self.m2 = m2\n",
    "        self.m3 = m3\n",
    "        \n",
    "    def avg(self):  #instance method\n",
    "        return (self.m1 + self.m2 + self.m3) / 3\n",
    "    \n",
    "    @classmethod\n",
    "    def get_school(cls):   #class method\n",
    "        return cls.school\n",
    "    \n",
    "    @staticmethod\n",
    "    def info():             #static method\n",
    "        print(\"This is static method...\")\n",
    "        return \"Also static\"\n",
    "        \n",
    "s1 = student(20,50,60)\n",
    "s2 = student(55,45,54)\n",
    "\n",
    "print(s1.avg(), student.get_school())\n",
    "print(s2.avg(), student.get_school())\n",
    "\n",
    "print(student.get_school())\n",
    "\n",
    "x = student.info()\n",
    "print(x)"
   ]
  },
  {
   "cell_type": "code",
   "execution_count": 41,
   "metadata": {},
   "outputs": [
    {
     "name": "stdout",
     "output_type": "stream",
     "text": [
      "ravi 1\n",
      "vishal 42\n",
      "DELL 8\n"
     ]
    }
   ],
   "source": [
    "# class inside a class\n",
    "class student:\n",
    "    \n",
    "    def __init__(self, name, rollno):\n",
    "        self.name = name\n",
    "        self.rollno = rollno\n",
    "#         self.lap = self.laptop(\"DELL\", 8) #creating obj of inner class inside the outer class\n",
    "        \n",
    "    def show(self):\n",
    "        print(self.name, self.rollno)\n",
    "#         self.lap.show()\n",
    "        \n",
    "        \n",
    "    class laptop:\n",
    "        \n",
    "        def __init__(self, brand, ram):\n",
    "            self.brand = brand\n",
    "            self.ram = ram\n",
    "            \n",
    "        def show(self):\n",
    "            print(self.brand, self.ram)\n",
    "            \n",
    "            \n",
    "        \n",
    "s1 = student('ravi', 1, )\n",
    "s2 = student('vishal', 42)\n",
    "\n",
    "lap1 = student.laptop(\"DELL\", 8) #creating obj of inner class outside the outer class\n",
    "\n",
    "s1.show()\n",
    "s2.show()\n",
    "lap1.show()"
   ]
  },
  {
   "cell_type": "code",
   "execution_count": 57,
   "metadata": {},
   "outputs": [
    {
     "name": "stdout",
     "output_type": "stream",
     "text": [
      "Feature 4 is working...\n",
      "Feature 5 is working...\n",
      "Feature 1 is working...\n"
     ]
    }
   ],
   "source": [
    "# inheritance\n",
    "class A:\n",
    "    def feature1(self):\n",
    "        print(\"Feature 1 is working...\")\n",
    "    \n",
    "    def feature2(self):\n",
    "        print(\"Feature 2 is working...\")\n",
    "        \n",
    "class B:\n",
    "    \n",
    "    def feature3(self):\n",
    "        print(\"Feature 3 is working...\")\n",
    "        \n",
    "    def feature4(self):\n",
    "        print(\"Feature 4 is working...\")\n",
    "        \n",
    "        \n",
    "class C(A,B):\n",
    "    def feature5(self):\n",
    "        print(\"Feature 5 is working...\")\n",
    "\n",
    "\n",
    "b1 = B()\n",
    "# b1.feature1()\n",
    "b1.feature4()\n",
    "\n",
    "c1 = C()\n",
    "c1.feature5()\n",
    "c1.feature1()"
   ]
  },
  {
   "cell_type": "code",
   "execution_count": 69,
   "metadata": {},
   "outputs": [
    {
     "name": "stdout",
     "output_type": "stream",
     "text": [
      "In A init\n",
      "In C init\n",
      "Feature 2 is working\n"
     ]
    }
   ],
   "source": [
    "# constructor in ingeritance and MRO(Method Resolution Order)\n",
    "class A:\n",
    "    def __init__(self):\n",
    "        print(\"In A init\")\n",
    "        \n",
    "    def feature1(self):\n",
    "        print(\"Feature 1 working\")\n",
    "        \n",
    "class B:\n",
    "    def __init__(self):\n",
    "        print(\"In B init\")\n",
    "        \n",
    "    def feature2(self):\n",
    "        print(\"Feature 2 is working\")\n",
    "        \n",
    "class C(A,B):                # MRO i.e left to right\n",
    "    def __init__(self):\n",
    "        super().__init__()   # calling constructor of super class A since MRO\n",
    "        print(\"In C init\")\n",
    "        \n",
    "    def feature3(self):\n",
    "        print(\"Feature 3 is working\")\n",
    "        \n",
    "    def newFeature(self):\n",
    "        super().feature2()  #super can be used to call any function of super class\n",
    "        \n",
    "c1 = C()\n",
    "c1.newFeature()\n",
    "\n",
    "\n",
    "    "
   ]
  },
  {
   "cell_type": "code",
   "execution_count": 76,
   "metadata": {},
   "outputs": [
    {
     "name": "stdout",
     "output_type": "stream",
     "text": [
      "Compiling...\n",
      "Executing...\n",
      "Spell Check...\n"
     ]
    }
   ],
   "source": [
    "#duck typing\n",
    "\n",
    "class PyCharm:\n",
    "    \n",
    "    def execute(self):\n",
    "        print(\"Compiling...\")\n",
    "        print(\"Executing...\")\n",
    "\n",
    "        \n",
    "class MyEditor:\n",
    "     def execute(self):\n",
    "        print(\"Compiling...\")\n",
    "        print(\"Executing...\")\n",
    "        print(\"Spell Check...\")\n",
    "        \n",
    "class Laptop:\n",
    "    \n",
    "    def code(self,ide):\n",
    "        ide.execute()\n",
    "        \n",
    "ide = MyEditor()\n",
    "\n",
    "l1 = Laptop()\n",
    "l1.code(ide)\n",
    "        "
   ]
  },
  {
   "cell_type": "code",
   "execution_count": 82,
   "metadata": {},
   "outputs": [
    {
     "name": "stdout",
     "output_type": "stream",
     "text": [
      "95 100\n",
      "s2 get higher marks\n"
     ]
    }
   ],
   "source": [
    "# operator overloading\n",
    "class student:\n",
    "    \n",
    "    def __init__(self, m1, m2):\n",
    "        self.m1 = m1\n",
    "        self.m2 = m2\n",
    "        \n",
    "    def __add__(self, other):  # overloading the inbuilt add method\n",
    "        r1 = self.m1 + other.m1\n",
    "        r2 = self.m2 + other.m2\n",
    "        s = student(r1, r2)\n",
    "        return s\n",
    "    \n",
    "    def __gt__(self, other): # overloading > operator (__gt__()) (greater than)\n",
    "        r1 = self.m1 + self.m2\n",
    "        r2 = other.m1 + other.m2\n",
    "        return r1 > r2\n",
    "    \n",
    "s1 = student(45,50)\n",
    "s2 = student(50,50)\n",
    "\n",
    "s3 = s1 + s2  \n",
    "\n",
    "print(s3.m1, s3.m2)\n",
    "\n",
    "if s1 > s2:\n",
    "    print(\"s1 got higher marks\")\n",
    "else:\n",
    "    print(\"s2 get higher marks\")\n",
    "    \n",
    "\n"
   ]
  }
 ],
 "metadata": {
  "kernelspec": {
   "display_name": "Python 3",
   "language": "python",
   "name": "python3"
  },
  "language_info": {
   "codemirror_mode": {
    "name": "ipython",
    "version": 3
   },
   "file_extension": ".py",
   "mimetype": "text/x-python",
   "name": "python",
   "nbconvert_exporter": "python",
   "pygments_lexer": "ipython3",
   "version": "3.7.3"
  }
 },
 "nbformat": 4,
 "nbformat_minor": 2
}
